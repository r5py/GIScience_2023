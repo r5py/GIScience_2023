{
 "cells": [
  {
   "cell_type": "markdown",
   "id": "5efabb77",
   "metadata": {},
   "source": [
    "# R: Basic usage of `r5r`\n",
    "\n",
    "```{admonition} Credits:\n",
    "\n",
    "This tutorial is a direct copy from [r5r -documentation](https://ipeagit.github.io/r5r/articles/r5r.html) made by Rafael H. M. Pereira, Marcus Saraiva, Daniel Herszenhut, Carlos Kaue Braga.\n",
    "```\n",
    "\n",
    "## Getting started\n",
    "\n",
    "### Download the Notebook\n",
    "\n",
    "You can download this tutorial Notebook to your own computer by clicking the **Download button** from the Menu on the top-right section of the website. \n",
    "\n",
    "- Right-click the option that says `.ipynb` and choose **\"Save link as ..\"**\n",
    "\n",
    "![Download tutorial Notebook](../img/Download_notebook_button.png)\n",
    "\n",
    "### Run the codes on your own computer\n",
    "\n",
    "Before you can run this Notebook, and/or do any programming, you need to launch the Jupyter Lab programming environment. The JupyterLab comes with the environment that you installed earlier (if you have not done this yet, follow the [installation instructions](https://otesama2023.readthedocs.io/en/latest/info/installing-miniconda.html)). To run the JupyterLab:\n",
    "\n",
    "1. Using terminal/command prompt, navigate to the folder where you have downloaded the Jupyter Notebook tutorial: `$ cd /mydirectory/`\n",
    "2. Activate the programming environment: `$ conda activate geo`\n",
    "3. Launch the JupyterLab: `$ jupyter lab`\n",
    "\n",
    "After these steps, the JupyterLab interface should open, and you can start executing cells (see hints below at \"Working with Jupyter Notebooks\").\n",
    "\n",
    "#### Alternatively: Run codes in Binder (with limited resources)\n",
    "\n",
    "Alternatively (not recommended due to limited computational resources), you can run this Notebook by launching a Binder instance. You can find buttons for activating the python environment at the top-right of this page which look like this:\n",
    "\n",
    "![Launch Binder](../img/launch_binder.png)\n",
    "\n",
    "\n",
    "### Working with Jupyter Notebooks\n",
    "\n",
    "Jupyter Notebooks are documents that can be used and run inside the JupyterLab programming environment containing the computer code and rich text elements (such as text, figures, tables and links). \n",
    "\n",
    "**A couple of hints**:\n",
    "\n",
    "- You can **execute a cell** by clicking a given cell that you want to run and pressing <kbd>Shift</kbd> + <kbd>Enter</kbd> (or by clicking the \"Play\" button on top)\n",
    "- You can **change the cell-type** between `Markdown` (for writing text) and `Code` (for writing/executing code) from the dropdown menu above. \n",
    "\n",
    "See **further details and help for** [**using Notebooks and JupyterLab from here**](https://pythongis.org/part1/chapter-01/nb/04-using-jupyterlab.html). \n",
    "\n"
   ]
  },
  {
   "cell_type": "markdown",
   "id": "125d0066",
   "metadata": {},
   "source": [
    "# 1. Introduction \n",
    "\n",
    "**r5r** is an [R package for rapid realistic routing on multimodal transport networks](https://github.com/ipeaGIT/r5r) (walk, bike, public transport and car). It provides a simple and friendly interface to R<sup>5</sup>, a really fast and open source Java-based routing engine developed separately by [Conveyal](https://www.conveyal.com/). R<sup>5</sup> stands for [Rapid Realistic Routing on Real-world and Reimagined networks](https://github.com/conveyal/r5). More details about **r5r** can be found on the [package webpage](https://ipeagit.github.io/r5r/index.html) or on this [paper](\n",
    "https://doi.org/10.32866/001c.21262).\n",
    "\n",
    "# 2. Installation\n",
    "\n",
    "You can install `r5r` from CRAN, or the development version from github.\n"
   ]
  },
  {
   "cell_type": "code",
   "execution_count": 1,
   "id": "66676485",
   "metadata": {},
   "outputs": [
    {
     "name": "stderr",
     "output_type": "stream",
     "text": [
      "also installing the dependency ‘concaveman’\n",
      "\n",
      "\n",
      "Updating HTML index of packages in '.Library'\n",
      "\n",
      "Making 'packages.html' ...\n",
      " done\n",
      "\n",
      "Downloading GitHub repo ipeaGIT/r5r@HEAD\n",
      "\n"
     ]
    },
    {
     "name": "stdout",
     "output_type": "stream",
     "text": [
      "openssl (2.0.6 -> 2.1.0) [CRAN]\n"
     ]
    },
    {
     "name": "stderr",
     "output_type": "stream",
     "text": [
      "Installing 1 packages: openssl\n",
      "\n",
      "Updating HTML index of packages in '.Library'\n",
      "\n",
      "Making 'packages.html' ...\n",
      " done\n",
      "\n"
     ]
    },
    {
     "name": "stdout",
     "output_type": "stream",
     "text": [
      "\u001b[36m──\u001b[39m \u001b[36mR CMD build\u001b[39m \u001b[36m──────────────────────────────────────────────────────────────────────────────────────\u001b[39m\n",
      "\u001b[32m✔\u001b[39m  \u001b[90mchecking for file ‘/tmp/Rtmp5sk7eS/remotes957c315f3d19/ipeaGIT-r5r-17f6570/r-package/DESCRIPTION’\u001b[39m\u001b[36m\u001b[39m\n",
      "\u001b[90m─\u001b[39m\u001b[90m  \u001b[39m\u001b[90mpreparing ‘r5r’:\u001b[39m\u001b[36m\u001b[39m\n",
      "\u001b[32m✔\u001b[39m  \u001b[90mchecking DESCRIPTION meta-information\u001b[39m\u001b[36m\u001b[39m\n",
      "\u001b[90m─\u001b[39m\u001b[90m  \u001b[39m\u001b[90mchecking for LF line-endings in source and make files and shell scripts\u001b[39m\u001b[36m\u001b[39m\n",
      "\u001b[90m─\u001b[39m\u001b[90m  \u001b[39m\u001b[90mchecking for empty or unneeded directories\u001b[39m\u001b[36m\u001b[39m\n",
      "\u001b[90m─\u001b[39m\u001b[90m  \u001b[39m\u001b[90mbuilding ‘r5r_1.1.0.tar.gz’\u001b[39m\u001b[36m\u001b[39m\n",
      "   \n",
      "\r"
     ]
    }
   ],
   "source": [
    "# CRAN\n",
    "install.packages('r5r')\n",
    "\n",
    "# github\n",
    "devtools::install_github(\"ipeaGIT/r5r\", subdir = \"r-package\")"
   ]
  },
  {
   "cell_type": "markdown",
   "id": "3eeb5e57",
   "metadata": {},
   "source": [
    "Please bear in mind that you need to have *Java SE Development Kit 11* installed on your computer to use `r5r`. No worries, you don't have to pay for it. The jdk 11 is freely available from the options below:\n",
    "- [OpenJDK](https://jdk.java.net/java-se-ri/11)\n",
    "- [Oracle](https://www.oracle.com/java/technologies/javase-jdk11-downloads.html)\n",
    "If you don't know what version of Java you have installed on your computer, you can check it by running this on R console."
   ]
  },
  {
   "cell_type": "code",
   "execution_count": 2,
   "id": "8d027d2b",
   "metadata": {},
   "outputs": [
    {
     "data": {
      "text/html": [
       "'11.0.15-internal'"
      ],
      "text/latex": [
       "'11.0.15-internal'"
      ],
      "text/markdown": [
       "'11.0.15-internal'"
      ],
      "text/plain": [
       "[1] \"11.0.15-internal\""
      ]
     },
     "metadata": {},
     "output_type": "display_data"
    }
   ],
   "source": [
    "rJava::.jinit()\n",
    "rJava::.jcall(\"java.lang.System\", \"S\", \"getProperty\", \"java.version\")"
   ]
  },
  {
   "cell_type": "markdown",
   "id": "5dc02db4",
   "metadata": {},
   "source": [
    "# 3. Usage\n",
    "\n",
    "Before we start, we need to increase the memory available to Java. This is necessary because, by default, `R` allocates only 512MB of memory for Java processes, which is not enough for large queries using `r5r`. To increase available memory to 2GB, for example, we need to set the `java.parameters` option at the beginning of the script, as follows:\n"
   ]
  },
  {
   "cell_type": "code",
   "execution_count": 3,
   "id": "671c49b6",
   "metadata": {},
   "outputs": [],
   "source": [
    "options(java.parameters = \"-Xmx2G\")"
   ]
  },
  {
   "cell_type": "markdown",
   "id": "37aaf345",
   "metadata": {},
   "source": [
    "Note: It's very important to allocate enough memory before loading `r5r` or any other Java-based package, since `rJava` starts a Java Virtual Machine only once for each R session. It might be useful to restart your R session and execute the code above right after, if you notice that you haven't succeeded in your previous attempts. \n",
    "\n",
    "Then we can load the packages used in this vignette:"
   ]
  },
  {
   "cell_type": "code",
   "execution_count": 4,
   "id": "5838f8c6",
   "metadata": {},
   "outputs": [
    {
     "name": "stderr",
     "output_type": "stream",
     "text": [
      "Please make sure you have already allocated some memory to Java by running:\n",
      "  options(java.parameters = '-Xmx2G').\n",
      "You should replace '2G' by the amount of memory you'll require. Currently, Java memory is set to -Xmx2G\n",
      "\n",
      "Linking to GEOS 3.12.0, GDAL 3.7.1, PROJ 9.2.1; sf_use_s2() is TRUE\n",
      "\n"
     ]
    }
   ],
   "source": [
    "library(r5r)\n",
    "library(sf)\n",
    "library(data.table)\n",
    "library(ggplot2)"
   ]
  },
  {
   "cell_type": "markdown",
   "id": "2ee20b25",
   "metadata": {},
   "source": [
    "The `r5r` package has five fundamental functions:\n",
    "\n",
    "1. `setup_r5()` to initialize an instance of `r5r`, that also builds a routable\n",
    "transport network;\n",
    "\n",
    "2. `accessibility()` for fast computation of access to opportunities considering\n",
    "a selected decay function;\n",
    "\n",
    "3. `travel_time_matrix()` for fast computation of travel time estimates between origin/destination pairs;\n",
    "\n",
    "4. `expanded_travel_time_matrix()` for calculating travel matrices between origin destination pairs with additional information such routes used and total time disaggregated by access, waiting, in-vehicle and transfer times.\n",
    "\n",
    "5. `detailed_itineraries()` to get detailed information on one or multiple alternative routes between origin/destination pairs.\n",
    "\n",
    "Most of these functions also allow users to account for monetary travel costs \n",
    "when generating travel time matrices and accessibility estimates. More info about\n",
    "how to consider monetary costs can be found in [this vignette](https://ipeagit.github.io/r5r/articles/fare_calculator.html).\n",
    "\n",
    "\n",
    "## 3.1 Data requirements:\n",
    "\n",
    "To use `r5r`, you will need:\n",
    "- A road network data set from OpenStreetMap in `.pbf` format (*mandatory*)\n",
    "- A public transport feed in `GTFS.zip` format (optional)\n",
    "- A raster file of Digital Elevation Model data in `.tif` format (optional)\n",
    "\n",
    "Here are a few places from where you can download these data sets:\n",
    "\n",
    "- OpenStreetMap\n",
    "  - [osmextract](https://docs.ropensci.org/osmextract/) R package\n",
    "  - [geofabrik](https://download.geofabrik.de/) website\n",
    "  - [hot export tool](https://export.hotosm.org/) website\n",
    "  - [BBBike.org](https://extract.bbbike.org/) website\n",
    "\n",
    "- GTFS\n",
    "  - [tidytransit](http://tidytransit.r-transit.org/) R package\n",
    "  - [transitland](https://www.transit.land/) website\n",
    "  \n",
    "- Elevation\n",
    "  - [elevatr](https://github.com/jhollist/elevatr) R package\n",
    "  - [Nasa's SRTMGL1](https://lpdaac.usgs.gov/products/srtmgl1v003/) website\n",
    "Let's have a quick look at how `r5r` works using a sample data set.\n",
    "\n",
    "\n",
    "\n",
    "# 4. Demonstration on sample data\n",
    "\n",
    "## Data\n",
    "\n",
    "To illustrate the functionalities of `r5r`, the package includes a small sample data for the city of Porto Alegre (Brazil). It includes seven files:\n",
    "\n",
    "* An OpenStreetMap network: `poa_osm.pbf`\n",
    "* Two public transport feeds: `poa_eptc.zip` and `poa_trensurb.zip`\n",
    "* A raster elevation data: `poa_elevation.tif`\n",
    "* A `poa_hexgrid.csv` file with spatial coordinates of a regular hexagonal grid covering the sample area, which can be used as origin/destination pairs in a travel time matrix calculation.\n",
    "* A `poa_points_of_interest.csv` file containing the names and spatial coordinates of 15 places within Porto Alegre\n",
    "* A `fares_poa.zip` file with the fare rules of the city's public transport system."
   ]
  },
  {
   "cell_type": "code",
   "execution_count": 5,
   "id": "481834f4",
   "metadata": {},
   "outputs": [
    {
     "data": {
      "text/html": [
       "<style>\n",
       ".list-inline {list-style: none; margin:0; padding: 0}\n",
       ".list-inline>li {display: inline-block}\n",
       ".list-inline>li:not(:last-child)::after {content: \"\\00b7\"; padding: 0 .5ex}\n",
       "</style>\n",
       "<ol class=list-inline><li>'fares'</li><li>'poa_elevation.tif'</li><li>'poa_eptc.zip'</li><li>'poa_hexgrid.csv'</li><li>'poa_osm.pbf'</li><li>'poa_points_of_interest.csv'</li><li>'poa_trensurb.zip'</li></ol>\n"
      ],
      "text/latex": [
       "\\begin{enumerate*}\n",
       "\\item 'fares'\n",
       "\\item 'poa\\_elevation.tif'\n",
       "\\item 'poa\\_eptc.zip'\n",
       "\\item 'poa\\_hexgrid.csv'\n",
       "\\item 'poa\\_osm.pbf'\n",
       "\\item 'poa\\_points\\_of\\_interest.csv'\n",
       "\\item 'poa\\_trensurb.zip'\n",
       "\\end{enumerate*}\n"
      ],
      "text/markdown": [
       "1. 'fares'\n",
       "2. 'poa_elevation.tif'\n",
       "3. 'poa_eptc.zip'\n",
       "4. 'poa_hexgrid.csv'\n",
       "5. 'poa_osm.pbf'\n",
       "6. 'poa_points_of_interest.csv'\n",
       "7. 'poa_trensurb.zip'\n",
       "\n",
       "\n"
      ],
      "text/plain": [
       "[1] \"fares\"                      \"poa_elevation.tif\"         \n",
       "[3] \"poa_eptc.zip\"               \"poa_hexgrid.csv\"           \n",
       "[5] \"poa_osm.pbf\"                \"poa_points_of_interest.csv\"\n",
       "[7] \"poa_trensurb.zip\"          "
      ]
     },
     "metadata": {},
     "output_type": "display_data"
    }
   ],
   "source": [
    "data_path <- system.file(\"extdata/poa\", package = \"r5r\")\n",
    "list.files(data_path)"
   ]
  },
  {
   "cell_type": "markdown",
   "id": "cbcbd9e4",
   "metadata": {},
   "source": [
    "The points of interest data can be seen below.  In this example, we will be looking at transport alternatives between some of those places."
   ]
  },
  {
   "cell_type": "code",
   "execution_count": 6,
   "id": "2353dc16",
   "metadata": {},
   "outputs": [
    {
     "data": {
      "text/html": [
       "<table class=\"dataframe\">\n",
       "<caption>A data.table: 6 × 3</caption>\n",
       "<thead>\n",
       "\t<tr><th scope=col>id</th><th scope=col>lat</th><th scope=col>lon</th></tr>\n",
       "\t<tr><th scope=col>&lt;chr&gt;</th><th scope=col>&lt;dbl&gt;</th><th scope=col>&lt;dbl&gt;</th></tr>\n",
       "</thead>\n",
       "<tbody>\n",
       "\t<tr><td>public_market      </td><td>-30.02756</td><td>-51.22781</td></tr>\n",
       "\t<tr><td>bus_central_station</td><td>-30.02329</td><td>-51.21886</td></tr>\n",
       "\t<tr><td>gasometer_museum   </td><td>-30.03404</td><td>-51.24095</td></tr>\n",
       "\t<tr><td>santa_casa_hospital</td><td>-30.03043</td><td>-51.22240</td></tr>\n",
       "\t<tr><td>townhall           </td><td>-30.02800</td><td>-51.22865</td></tr>\n",
       "\t<tr><td>piratini_palace    </td><td>-30.03363</td><td>-51.23068</td></tr>\n",
       "</tbody>\n",
       "</table>\n"
      ],
      "text/latex": [
       "A data.table: 6 × 3\n",
       "\\begin{tabular}{lll}\n",
       " id & lat & lon\\\\\n",
       " <chr> & <dbl> & <dbl>\\\\\n",
       "\\hline\n",
       "\t public\\_market       & -30.02756 & -51.22781\\\\\n",
       "\t bus\\_central\\_station & -30.02329 & -51.21886\\\\\n",
       "\t gasometer\\_museum    & -30.03404 & -51.24095\\\\\n",
       "\t santa\\_casa\\_hospital & -30.03043 & -51.22240\\\\\n",
       "\t townhall            & -30.02800 & -51.22865\\\\\n",
       "\t piratini\\_palace     & -30.03363 & -51.23068\\\\\n",
       "\\end{tabular}\n"
      ],
      "text/markdown": [
       "\n",
       "A data.table: 6 × 3\n",
       "\n",
       "| id &lt;chr&gt; | lat &lt;dbl&gt; | lon &lt;dbl&gt; |\n",
       "|---|---|---|\n",
       "| public_market       | -30.02756 | -51.22781 |\n",
       "| bus_central_station | -30.02329 | -51.21886 |\n",
       "| gasometer_museum    | -30.03404 | -51.24095 |\n",
       "| santa_casa_hospital | -30.03043 | -51.22240 |\n",
       "| townhall            | -30.02800 | -51.22865 |\n",
       "| piratini_palace     | -30.03363 | -51.23068 |\n",
       "\n"
      ],
      "text/plain": [
       "  id                  lat       lon      \n",
       "1 public_market       -30.02756 -51.22781\n",
       "2 bus_central_station -30.02329 -51.21886\n",
       "3 gasometer_museum    -30.03404 -51.24095\n",
       "4 santa_casa_hospital -30.03043 -51.22240\n",
       "5 townhall            -30.02800 -51.22865\n",
       "6 piratini_palace     -30.03363 -51.23068"
      ]
     },
     "metadata": {},
     "output_type": "display_data"
    }
   ],
   "source": [
    "poi <- fread(file.path(data_path, \"poa_points_of_interest.csv\"))\n",
    "head(poi)"
   ]
  },
  {
   "cell_type": "markdown",
   "id": "4f7de1dd",
   "metadata": {},
   "source": [
    "The data with origin destination pairs is shown below. In this example, we will be using  200 points randomly selected from this data set.\n"
   ]
  },
  {
   "cell_type": "code",
   "execution_count": 7,
   "id": "2c53c6c6",
   "metadata": {},
   "outputs": [
    {
     "data": {
      "text/html": [
       "<table class=\"dataframe\">\n",
       "<caption>A data.table: 6 × 7</caption>\n",
       "<thead>\n",
       "\t<tr><th scope=col>id</th><th scope=col>lon</th><th scope=col>lat</th><th scope=col>population</th><th scope=col>schools</th><th scope=col>jobs</th><th scope=col>healthcare</th></tr>\n",
       "\t<tr><th scope=col>&lt;chr&gt;</th><th scope=col>&lt;dbl&gt;</th><th scope=col>&lt;dbl&gt;</th><th scope=col>&lt;int&gt;</th><th scope=col>&lt;int&gt;</th><th scope=col>&lt;int&gt;</th><th scope=col>&lt;int&gt;</th></tr>\n",
       "</thead>\n",
       "<tbody>\n",
       "\t<tr><td>89a9012a3c3ffff</td><td>-51.21198</td><td>-30.10334</td><td> 402</td><td>0</td><td>  0</td><td>0</td></tr>\n",
       "\t<tr><td>89a90128533ffff</td><td>-51.22298</td><td>-30.07468</td><td>1714</td><td>0</td><td> 42</td><td>0</td></tr>\n",
       "\t<tr><td>89a901299dbffff</td><td>-51.18425</td><td>-30.01972</td><td>1009</td><td>0</td><td>141</td><td>0</td></tr>\n",
       "\t<tr><td>89a90129c47ffff</td><td>-51.16684</td><td>-30.04063</td><td> 620</td><td>0</td><td>590</td><td>0</td></tr>\n",
       "\t<tr><td>89a9012b10fffff</td><td>-51.17526</td><td>-30.09816</td><td> 214</td><td>0</td><td>  0</td><td>0</td></tr>\n",
       "\t<tr><td>89a90128c2bffff</td><td>-51.23983</td><td>-30.03996</td><td>   0</td><td>0</td><td>  0</td><td>0</td></tr>\n",
       "</tbody>\n",
       "</table>\n"
      ],
      "text/latex": [
       "A data.table: 6 × 7\n",
       "\\begin{tabular}{lllllll}\n",
       " id & lon & lat & population & schools & jobs & healthcare\\\\\n",
       " <chr> & <dbl> & <dbl> & <int> & <int> & <int> & <int>\\\\\n",
       "\\hline\n",
       "\t 89a9012a3c3ffff & -51.21198 & -30.10334 &  402 & 0 &   0 & 0\\\\\n",
       "\t 89a90128533ffff & -51.22298 & -30.07468 & 1714 & 0 &  42 & 0\\\\\n",
       "\t 89a901299dbffff & -51.18425 & -30.01972 & 1009 & 0 & 141 & 0\\\\\n",
       "\t 89a90129c47ffff & -51.16684 & -30.04063 &  620 & 0 & 590 & 0\\\\\n",
       "\t 89a9012b10fffff & -51.17526 & -30.09816 &  214 & 0 &   0 & 0\\\\\n",
       "\t 89a90128c2bffff & -51.23983 & -30.03996 &    0 & 0 &   0 & 0\\\\\n",
       "\\end{tabular}\n"
      ],
      "text/markdown": [
       "\n",
       "A data.table: 6 × 7\n",
       "\n",
       "| id &lt;chr&gt; | lon &lt;dbl&gt; | lat &lt;dbl&gt; | population &lt;int&gt; | schools &lt;int&gt; | jobs &lt;int&gt; | healthcare &lt;int&gt; |\n",
       "|---|---|---|---|---|---|---|\n",
       "| 89a9012a3c3ffff | -51.21198 | -30.10334 |  402 | 0 |   0 | 0 |\n",
       "| 89a90128533ffff | -51.22298 | -30.07468 | 1714 | 0 |  42 | 0 |\n",
       "| 89a901299dbffff | -51.18425 | -30.01972 | 1009 | 0 | 141 | 0 |\n",
       "| 89a90129c47ffff | -51.16684 | -30.04063 |  620 | 0 | 590 | 0 |\n",
       "| 89a9012b10fffff | -51.17526 | -30.09816 |  214 | 0 |   0 | 0 |\n",
       "| 89a90128c2bffff | -51.23983 | -30.03996 |    0 | 0 |   0 | 0 |\n",
       "\n"
      ],
      "text/plain": [
       "  id              lon       lat       population schools jobs healthcare\n",
       "1 89a9012a3c3ffff -51.21198 -30.10334  402       0         0  0         \n",
       "2 89a90128533ffff -51.22298 -30.07468 1714       0        42  0         \n",
       "3 89a901299dbffff -51.18425 -30.01972 1009       0       141  0         \n",
       "4 89a90129c47ffff -51.16684 -30.04063  620       0       590  0         \n",
       "5 89a9012b10fffff -51.17526 -30.09816  214       0         0  0         \n",
       "6 89a90128c2bffff -51.23983 -30.03996    0       0         0  0         "
      ]
     },
     "metadata": {},
     "output_type": "display_data"
    }
   ],
   "source": [
    "points <- fread(file.path(data_path, \"poa_hexgrid.csv\"))\n",
    "# sample points\n",
    "sampled_rows <-  sample(1:nrow(points), 200, replace=TRUE)\n",
    "points <- points[ sampled_rows, ]\n",
    "head(points)"
   ]
  },
  {
   "cell_type": "markdown",
   "id": "f2da46e1",
   "metadata": {},
   "source": [
    "## 4.1 Building routable transport network with `setup_r5()`\n",
    "The first step is to build the multimodal transport network used for routing in R<sup>5</sup>. This is done with the `setup_r5` function. This function does two things: (1) downloads/updates a compiled JAR file of R<sup>5</sup> and stores it locally in the `r5r` package directory for future use; and (2) combines the osm.pbf and gtfs.zip data sets to build a routable network object.\n"
   ]
  },
  {
   "cell_type": "code",
   "execution_count": 8,
   "id": "2273928f",
   "metadata": {},
   "outputs": [
    {
     "name": "stderr",
     "output_type": "stream",
     "text": [
      "Downloading R5 jar file to /home/hentenka/.conda/envs/mamba/envs/geo/lib/R/library/r5r/jar/r5-v6.9-all.jar\n",
      "\n",
      "\n",
      "Finished building network.dat at /home/hentenka/.conda/envs/mamba/envs/geo/lib/R/library/r5r/extdata/poa/network.dat\n",
      "\n"
     ]
    }
   ],
   "source": [
    "# Indicate the path where OSM and GTFS data are stored\n",
    "r5r_core <- setup_r5(data_path = data_path)"
   ]
  },
  {
   "cell_type": "markdown",
   "id": "a004ad92",
   "metadata": {},
   "source": [
    "## 4.2 Accessibility analysis\n",
    "The faster way to calculate accessibility estimates is using the `accessibility()`\n",
    "function. In this example, we calculate the number of schools and health care \n",
    "facilities accessible in less than 60 minutes by public transport and walking.\n",
    "More details in this vignette on [Calculating and visualizing Accessibility](https://ipeagit.github.io/r5r/articles/calculating_accessibility.html)."
   ]
  },
  {
   "cell_type": "code",
   "execution_count": 9,
   "id": "b20abf88",
   "metadata": {},
   "outputs": [
    {
     "data": {
      "text/html": [
       "<table class=\"dataframe\">\n",
       "<caption>A data.table: 6 × 5</caption>\n",
       "<thead>\n",
       "\t<tr><th scope=col>id</th><th scope=col>opportunity</th><th scope=col>percentile</th><th scope=col>cutoff</th><th scope=col>accessibility</th></tr>\n",
       "\t<tr><th scope=col>&lt;chr&gt;</th><th scope=col>&lt;chr&gt;</th><th scope=col>&lt;int&gt;</th><th scope=col>&lt;int&gt;</th><th scope=col>&lt;dbl&gt;</th></tr>\n",
       "</thead>\n",
       "<tbody>\n",
       "\t<tr><td>89a9012a3c3ffff</td><td>schools   </td><td>50</td><td>60</td><td> 4</td></tr>\n",
       "\t<tr><td>89a9012a3c3ffff</td><td>healthcare</td><td>50</td><td>60</td><td> 0</td></tr>\n",
       "\t<tr><td>89a90128533ffff</td><td>schools   </td><td>50</td><td>60</td><td>29</td></tr>\n",
       "\t<tr><td>89a90128533ffff</td><td>healthcare</td><td>50</td><td>60</td><td>14</td></tr>\n",
       "\t<tr><td>89a901299dbffff</td><td>schools   </td><td>50</td><td>60</td><td>30</td></tr>\n",
       "\t<tr><td>89a901299dbffff</td><td>healthcare</td><td>50</td><td>60</td><td>15</td></tr>\n",
       "</tbody>\n",
       "</table>\n"
      ],
      "text/latex": [
       "A data.table: 6 × 5\n",
       "\\begin{tabular}{lllll}\n",
       " id & opportunity & percentile & cutoff & accessibility\\\\\n",
       " <chr> & <chr> & <int> & <int> & <dbl>\\\\\n",
       "\\hline\n",
       "\t 89a9012a3c3ffff & schools    & 50 & 60 &  4\\\\\n",
       "\t 89a9012a3c3ffff & healthcare & 50 & 60 &  0\\\\\n",
       "\t 89a90128533ffff & schools    & 50 & 60 & 29\\\\\n",
       "\t 89a90128533ffff & healthcare & 50 & 60 & 14\\\\\n",
       "\t 89a901299dbffff & schools    & 50 & 60 & 30\\\\\n",
       "\t 89a901299dbffff & healthcare & 50 & 60 & 15\\\\\n",
       "\\end{tabular}\n"
      ],
      "text/markdown": [
       "\n",
       "A data.table: 6 × 5\n",
       "\n",
       "| id &lt;chr&gt; | opportunity &lt;chr&gt; | percentile &lt;int&gt; | cutoff &lt;int&gt; | accessibility &lt;dbl&gt; |\n",
       "|---|---|---|---|---|\n",
       "| 89a9012a3c3ffff | schools    | 50 | 60 |  4 |\n",
       "| 89a9012a3c3ffff | healthcare | 50 | 60 |  0 |\n",
       "| 89a90128533ffff | schools    | 50 | 60 | 29 |\n",
       "| 89a90128533ffff | healthcare | 50 | 60 | 14 |\n",
       "| 89a901299dbffff | schools    | 50 | 60 | 30 |\n",
       "| 89a901299dbffff | healthcare | 50 | 60 | 15 |\n",
       "\n"
      ],
      "text/plain": [
       "  id              opportunity percentile cutoff accessibility\n",
       "1 89a9012a3c3ffff schools     50         60      4           \n",
       "2 89a9012a3c3ffff healthcare  50         60      0           \n",
       "3 89a90128533ffff schools     50         60     29           \n",
       "4 89a90128533ffff healthcare  50         60     14           \n",
       "5 89a901299dbffff schools     50         60     30           \n",
       "6 89a901299dbffff healthcare  50         60     15           "
      ]
     },
     "metadata": {},
     "output_type": "display_data"
    }
   ],
   "source": [
    "# set departure datetime input\n",
    "departure_datetime <- as.POSIXct(\"13-05-2019 14:00:00\",\n",
    "                                 format = \"%d-%m-%Y %H:%M:%S\")\n",
    "# calculate accessibility\n",
    "access <- accessibility(r5r_core = r5r_core,\n",
    "                        origins = points,\n",
    "                        destinations = points,\n",
    "                        opportunities_colnames = c(\"schools\", \"healthcare\"),\n",
    "                        mode = c(\"WALK\", \"TRANSIT\"),\n",
    "                        departure_datetime = departure_datetime,\n",
    "                        decay_function = \"step\",\n",
    "                        cutoffs = 60\n",
    "                        )\n",
    "head(access)"
   ]
  },
  {
   "cell_type": "markdown",
   "id": "900e1c23",
   "metadata": {},
   "source": [
    "## 4.3 Routing analysis\n",
    "For fast routing analysis, **r5r** currently has three core functions: \n",
    "`travel_time_matrix()`, `expanded_travel_time_matrix()` and `detailed_itineraries()`.\n",
    "### Fast many to many travel time matrix\n",
    "The `travel_time_matrix()` function is a really simple and fast function to \n",
    "compute travel time estimates between one or multiple origin/destination pairs. \n",
    "The origin/destination input can be either a spatial `sf POINT` object, or a \n",
    "`data.frame` containing the columns `id, lon, lat`. The function also receives \n",
    "as inputs the *max walking distance*, in meters, and the *max trip duration*, in\n",
    "minutes. Resulting travel times are also output in minutes.\n",
    "This function also allows users to very efficiently capture the travel time \n",
    "uncertainties inside a given time window considering multiple departure times. \n",
    "[More info on this vignette](https://ipeagit.github.io/r5r/articles/time_window.html). "
   ]
  },
  {
   "cell_type": "code",
   "execution_count": 10,
   "id": "a62342e0",
   "metadata": {},
   "outputs": [
    {
     "data": {
      "text/html": [
       "<table class=\"dataframe\">\n",
       "<caption>A data.table: 6 × 3</caption>\n",
       "<thead>\n",
       "\t<tr><th scope=col>from_id</th><th scope=col>to_id</th><th scope=col>travel_time_p50</th></tr>\n",
       "\t<tr><th scope=col>&lt;chr&gt;</th><th scope=col>&lt;chr&gt;</th><th scope=col>&lt;int&gt;</th></tr>\n",
       "</thead>\n",
       "<tbody>\n",
       "\t<tr><td>public_market</td><td>public_market      </td><td> 0</td></tr>\n",
       "\t<tr><td>public_market</td><td>bus_central_station</td><td>14</td></tr>\n",
       "\t<tr><td>public_market</td><td>gasometer_museum   </td><td>12</td></tr>\n",
       "\t<tr><td>public_market</td><td>santa_casa_hospital</td><td>15</td></tr>\n",
       "\t<tr><td>public_market</td><td>townhall           </td><td> 3</td></tr>\n",
       "\t<tr><td>public_market</td><td>piratini_palace    </td><td>17</td></tr>\n",
       "</tbody>\n",
       "</table>\n"
      ],
      "text/latex": [
       "A data.table: 6 × 3\n",
       "\\begin{tabular}{lll}\n",
       " from\\_id & to\\_id & travel\\_time\\_p50\\\\\n",
       " <chr> & <chr> & <int>\\\\\n",
       "\\hline\n",
       "\t public\\_market & public\\_market       &  0\\\\\n",
       "\t public\\_market & bus\\_central\\_station & 14\\\\\n",
       "\t public\\_market & gasometer\\_museum    & 12\\\\\n",
       "\t public\\_market & santa\\_casa\\_hospital & 15\\\\\n",
       "\t public\\_market & townhall            &  3\\\\\n",
       "\t public\\_market & piratini\\_palace     & 17\\\\\n",
       "\\end{tabular}\n"
      ],
      "text/markdown": [
       "\n",
       "A data.table: 6 × 3\n",
       "\n",
       "| from_id &lt;chr&gt; | to_id &lt;chr&gt; | travel_time_p50 &lt;int&gt; |\n",
       "|---|---|---|\n",
       "| public_market | public_market       |  0 |\n",
       "| public_market | bus_central_station | 14 |\n",
       "| public_market | gasometer_museum    | 12 |\n",
       "| public_market | santa_casa_hospital | 15 |\n",
       "| public_market | townhall            |  3 |\n",
       "| public_market | piratini_palace     | 17 |\n",
       "\n"
      ],
      "text/plain": [
       "  from_id       to_id               travel_time_p50\n",
       "1 public_market public_market        0             \n",
       "2 public_market bus_central_station 14             \n",
       "3 public_market gasometer_museum    12             \n",
       "4 public_market santa_casa_hospital 15             \n",
       "5 public_market townhall             3             \n",
       "6 public_market piratini_palace     17             "
      ]
     },
     "metadata": {},
     "output_type": "display_data"
    }
   ],
   "source": [
    "# set inputs\n",
    "mode <- c(\"WALK\", \"TRANSIT\")\n",
    "max_walk_time <- 30 # minutes\n",
    "max_trip_duration <- 120 # minutes\n",
    "departure_datetime <- as.POSIXct(\"13-05-2019 14:00:00\",\n",
    "                                 format = \"%d-%m-%Y %H:%M:%S\")\n",
    "# calculate a travel time matrix\n",
    "ttm <- travel_time_matrix(r5r_core = r5r_core,\n",
    "                          origins = poi,\n",
    "                          destinations = poi,\n",
    "                          mode = mode,\n",
    "                          departure_datetime = departure_datetime,\n",
    "                          max_walk_time = max_walk_time,\n",
    "                          max_trip_duration = max_trip_duration)\n",
    "head(ttm)"
   ]
  },
  {
   "cell_type": "markdown",
   "id": "a45a4d78",
   "metadata": {},
   "source": [
    "### Expanded travel time matrix with minute-by-minute estimates\n",
    "For those interested in more detailed outputs, the `expanded_travel_time_matrix()` \n",
    "works very similarly with `travel_time_matrix()` but it brings much more \n",
    "information. It estimates for each origin destination pair the routes used and \n",
    "total time disaggregated by access, waiting, in-vehicle and transfer times. \n",
    "Please note this  function can be very memory intensive for large data sets."
   ]
  },
  {
   "cell_type": "code",
   "execution_count": 11,
   "id": "13970fc0",
   "metadata": {},
   "outputs": [
    {
     "data": {
      "text/html": [
       "<table class=\"dataframe\">\n",
       "<caption>A data.table: 6 × 12</caption>\n",
       "<thead>\n",
       "\t<tr><th scope=col>from_id</th><th scope=col>to_id</th><th scope=col>departure_time</th><th scope=col>draw_number</th><th scope=col>access_time</th><th scope=col>wait_time</th><th scope=col>ride_time</th><th scope=col>transfer_time</th><th scope=col>egress_time</th><th scope=col>routes</th><th scope=col>n_rides</th><th scope=col>total_time</th></tr>\n",
       "\t<tr><th scope=col>&lt;chr&gt;</th><th scope=col>&lt;chr&gt;</th><th scope=col>&lt;chr&gt;</th><th scope=col>&lt;int&gt;</th><th scope=col>&lt;dbl&gt;</th><th scope=col>&lt;dbl&gt;</th><th scope=col>&lt;dbl&gt;</th><th scope=col>&lt;dbl&gt;</th><th scope=col>&lt;dbl&gt;</th><th scope=col>&lt;chr&gt;</th><th scope=col>&lt;int&gt;</th><th scope=col>&lt;dbl&gt;</th></tr>\n",
       "</thead>\n",
       "<tbody>\n",
       "\t<tr><td>public_market</td><td>public_market</td><td>14:00:00</td><td>1</td><td>0</td><td>0</td><td>0</td><td>0</td><td>0</td><td>[WALK]</td><td>0</td><td>0</td></tr>\n",
       "\t<tr><td>public_market</td><td>public_market</td><td>14:01:00</td><td>1</td><td>0</td><td>0</td><td>0</td><td>0</td><td>0</td><td>[WALK]</td><td>0</td><td>0</td></tr>\n",
       "\t<tr><td>public_market</td><td>public_market</td><td>14:02:00</td><td>1</td><td>0</td><td>0</td><td>0</td><td>0</td><td>0</td><td>[WALK]</td><td>0</td><td>0</td></tr>\n",
       "\t<tr><td>public_market</td><td>public_market</td><td>14:03:00</td><td>1</td><td>0</td><td>0</td><td>0</td><td>0</td><td>0</td><td>[WALK]</td><td>0</td><td>0</td></tr>\n",
       "\t<tr><td>public_market</td><td>public_market</td><td>14:04:00</td><td>1</td><td>0</td><td>0</td><td>0</td><td>0</td><td>0</td><td>[WALK]</td><td>0</td><td>0</td></tr>\n",
       "\t<tr><td>public_market</td><td>public_market</td><td>14:05:00</td><td>1</td><td>0</td><td>0</td><td>0</td><td>0</td><td>0</td><td>[WALK]</td><td>0</td><td>0</td></tr>\n",
       "</tbody>\n",
       "</table>\n"
      ],
      "text/latex": [
       "A data.table: 6 × 12\n",
       "\\begin{tabular}{llllllllllll}\n",
       " from\\_id & to\\_id & departure\\_time & draw\\_number & access\\_time & wait\\_time & ride\\_time & transfer\\_time & egress\\_time & routes & n\\_rides & total\\_time\\\\\n",
       " <chr> & <chr> & <chr> & <int> & <dbl> & <dbl> & <dbl> & <dbl> & <dbl> & <chr> & <int> & <dbl>\\\\\n",
       "\\hline\n",
       "\t public\\_market & public\\_market & 14:00:00 & 1 & 0 & 0 & 0 & 0 & 0 & {[}WALK{]} & 0 & 0\\\\\n",
       "\t public\\_market & public\\_market & 14:01:00 & 1 & 0 & 0 & 0 & 0 & 0 & {[}WALK{]} & 0 & 0\\\\\n",
       "\t public\\_market & public\\_market & 14:02:00 & 1 & 0 & 0 & 0 & 0 & 0 & {[}WALK{]} & 0 & 0\\\\\n",
       "\t public\\_market & public\\_market & 14:03:00 & 1 & 0 & 0 & 0 & 0 & 0 & {[}WALK{]} & 0 & 0\\\\\n",
       "\t public\\_market & public\\_market & 14:04:00 & 1 & 0 & 0 & 0 & 0 & 0 & {[}WALK{]} & 0 & 0\\\\\n",
       "\t public\\_market & public\\_market & 14:05:00 & 1 & 0 & 0 & 0 & 0 & 0 & {[}WALK{]} & 0 & 0\\\\\n",
       "\\end{tabular}\n"
      ],
      "text/markdown": [
       "\n",
       "A data.table: 6 × 12\n",
       "\n",
       "| from_id &lt;chr&gt; | to_id &lt;chr&gt; | departure_time &lt;chr&gt; | draw_number &lt;int&gt; | access_time &lt;dbl&gt; | wait_time &lt;dbl&gt; | ride_time &lt;dbl&gt; | transfer_time &lt;dbl&gt; | egress_time &lt;dbl&gt; | routes &lt;chr&gt; | n_rides &lt;int&gt; | total_time &lt;dbl&gt; |\n",
       "|---|---|---|---|---|---|---|---|---|---|---|---|\n",
       "| public_market | public_market | 14:00:00 | 1 | 0 | 0 | 0 | 0 | 0 | [WALK] | 0 | 0 |\n",
       "| public_market | public_market | 14:01:00 | 1 | 0 | 0 | 0 | 0 | 0 | [WALK] | 0 | 0 |\n",
       "| public_market | public_market | 14:02:00 | 1 | 0 | 0 | 0 | 0 | 0 | [WALK] | 0 | 0 |\n",
       "| public_market | public_market | 14:03:00 | 1 | 0 | 0 | 0 | 0 | 0 | [WALK] | 0 | 0 |\n",
       "| public_market | public_market | 14:04:00 | 1 | 0 | 0 | 0 | 0 | 0 | [WALK] | 0 | 0 |\n",
       "| public_market | public_market | 14:05:00 | 1 | 0 | 0 | 0 | 0 | 0 | [WALK] | 0 | 0 |\n",
       "\n"
      ],
      "text/plain": [
       "  from_id       to_id         departure_time draw_number access_time wait_time\n",
       "1 public_market public_market 14:00:00       1           0           0        \n",
       "2 public_market public_market 14:01:00       1           0           0        \n",
       "3 public_market public_market 14:02:00       1           0           0        \n",
       "4 public_market public_market 14:03:00       1           0           0        \n",
       "5 public_market public_market 14:04:00       1           0           0        \n",
       "6 public_market public_market 14:05:00       1           0           0        \n",
       "  ride_time transfer_time egress_time routes n_rides total_time\n",
       "1 0         0             0           [WALK] 0       0         \n",
       "2 0         0             0           [WALK] 0       0         \n",
       "3 0         0             0           [WALK] 0       0         \n",
       "4 0         0             0           [WALK] 0       0         \n",
       "5 0         0             0           [WALK] 0       0         \n",
       "6 0         0             0           [WALK] 0       0         "
      ]
     },
     "metadata": {},
     "output_type": "display_data"
    }
   ],
   "source": [
    "# calculate a travel time matrix\n",
    "ettm <- expanded_travel_time_matrix(r5r_core = r5r_core,\n",
    "                          origins = poi,\n",
    "                          destinations = poi,\n",
    "                          mode = mode,\n",
    "                          departure_datetime = departure_datetime,\n",
    "                          breakdown = TRUE,\n",
    "                          max_walk_time = max_walk_time,\n",
    "                          max_trip_duration = max_trip_duration)\n",
    "head(ettm)"
   ]
  },
  {
   "cell_type": "markdown",
   "id": "4112e02f",
   "metadata": {},
   "source": [
    "### Detailed itineraries\n",
    "Most routing packages only return the fastest route. A key advantage of the `detailed_itineraries()` function is that is allows for fast routing analysis \n",
    "while providing multiple alternative routes between origin destination pairs. \n",
    "The output also brings detailed information for each route alternative at the \n",
    "trip segment level, including the transport mode, waiting times, travel time and\n",
    "distance of each trip segment. \n",
    "In this example below, we want to know some alternative routes between one origin/destination pair only."
   ]
  },
  {
   "cell_type": "code",
   "execution_count": 12,
   "id": "dbaa0e3d",
   "metadata": {},
   "outputs": [
    {
     "name": "stderr",
     "output_type": "stream",
     "text": [
      "The legacy packages maptools, rgdal, and rgeos, underpinning the sp package,\n",
      "which was just loaded, will retire in October 2023.\n",
      "Please refer to R-spatial evolution reports for details, especially\n",
      "https://r-spatial.org/r/2023/05/15/evolution4.html.\n",
      "It may be desirable to make the sf package available;\n",
      "package maintainers should consider adding sf to Suggests:.\n",
      "The sp package is now running under evolution status 2\n",
      "     (status 2 uses the sf package in place of rgdal)\n",
      "\n",
      "Registered S3 method overwritten by 'geojsonsf':\n",
      "  method        from   \n",
      "  print.geojson geojson\n",
      "\n"
     ]
    },
    {
     "data": {
      "application/geo+json": {
       "features": [
        {
         "geometry": {
          "coordinates": [
           [
            -51.1981,
            -29.9989
           ],
           [
            -51.1981,
            -29.9988
           ],
           [
            -51.1976,
            -29.9974
           ]
          ],
          "type": "LineString"
         },
         "properties": {
          "departure_time": "14:09:10",
          "distance": 174,
          "from_id": "farrapos_station",
          "from_lat": -29.9977,
          "from_lon": -51.1976,
          "mode": "WALK",
          "option": 1,
          "route": "",
          "segment": 1,
          "segment_duration": 4.6,
          "to_id": "praia_de_belas_shopping_center",
          "to_lat": -30.05,
          "to_lon": -51.2288,
          "total_distance": 9460,
          "total_duration": 36.2,
          "wait": 0
         },
         "type": "Feature"
        },
        {
         "geometry": {
          "coordinates": [
           [
            -51.1976,
            -29.9973
           ],
           [
            -51.1984,
            -29.9973
           ],
           [
            -51.1996,
            -29.9974
           ],
           [
            -51.2012,
            -29.9974
           ],
           [
            -51.2028,
            -29.9975
           ],
           [
            -51.2037,
            -29.9976
           ],
           [
            -51.2044,
            -29.9977
           ],
           [
            -51.205,
            -29.998
           ],
           [
            -51.2057,
            -29.9982
           ],
           [
            -51.2062,
            -29.9984
           ],
           [
            -51.2065,
            -29.9987
           ],
           [
            -51.2068,
            -29.999
           ],
           [
            -51.207,
            -29.9993
           ],
           [
            -51.2075,
            -30.0008
           ],
           [
            -51.2078,
            -30.0016
           ],
           [
            -51.2081,
            -30.0028
           ],
           [
            -51.2083,
            -30.0033
           ],
           [
            -51.2086,
            -30.0041
           ],
           [
            -51.2089,
            -30.005
           ],
           [
            -51.2091,
            -30.0055
           ],
           [
            -51.2093,
            -30.0061
           ],
           [
            -51.2095,
            -30.0065
           ],
           [
            -51.2095,
            -30.0065
           ],
           [
            -51.2096,
            -30.0067
           ],
           [
            -51.21,
            -30.0076
           ],
           [
            -51.2104,
            -30.0083
           ],
           [
            -51.2108,
            -30.0092
           ],
           [
            -51.2113,
            -30.01
           ],
           [
            -51.2117,
            -30.0109
           ],
           [
            -51.2121,
            -30.0116
           ],
           [
            -51.2127,
            -30.0126
           ],
           [
            -51.2132,
            -30.0137
           ],
           [
            -51.2137,
            -30.0146
           ],
           [
            -51.2143,
            -30.0157
           ],
           [
            -51.2147,
            -30.0164
           ],
           [
            -51.2151,
            -30.0172
           ],
           [
            -51.2155,
            -30.0181
           ],
           [
            -51.2159,
            -30.0187
           ],
           [
            -51.2161,
            -30.0192
           ],
           [
            -51.2165,
            -30.0199
           ],
           [
            -51.2167,
            -30.0202
           ],
           [
            -51.2169,
            -30.0204
           ],
           [
            -51.2172,
            -30.0207
           ],
           [
            -51.2176,
            -30.021
           ],
           [
            -51.2184,
            -30.0215
           ],
           [
            -51.2193,
            -30.0218
           ],
           [
            -51.2198,
            -30.0222
           ],
           [
            -51.22,
            -30.0224
           ],
           [
            -51.22,
            -30.0224
           ],
           [
            -51.2206,
            -30.0229
           ],
           [
            -51.2216,
            -30.0234
           ],
           [
            -51.2224,
            -30.0237
           ],
           [
            -51.2231,
            -30.0241
           ],
           [
            -51.2247,
            -30.0248
           ],
           [
            -51.2261,
            -30.0255
           ],
           [
            -51.2266,
            -30.0258
           ],
           [
            -51.2272,
            -30.026
           ],
           [
            -51.2283,
            -30.0263
           ]
          ],
          "type": "LineString"
         },
         "properties": {
          "departure_time": "14:09:10",
          "distance": 4796,
          "from_id": "farrapos_station",
          "from_lat": -29.9977,
          "from_lon": -51.1976,
          "mode": "RAIL",
          "option": 1,
          "route": "LINHA1",
          "segment": 2,
          "segment_duration": 6.6,
          "to_id": "praia_de_belas_shopping_center",
          "to_lat": -30.05,
          "to_lon": -51.2288,
          "total_distance": 9460,
          "total_duration": 36.2,
          "wait": 1.3
         },
         "type": "Feature"
        },
        {
         "geometry": {
          "coordinates": [
           [
            -51.2283,
            -30.0263
           ],
           [
            -51.2283,
            -30.0263
           ],
           [
            -51.2282,
            -30.0263
           ],
           [
            -51.2282,
            -30.0263
           ],
           [
            -51.2282,
            -30.0264
           ],
           [
            -51.2282,
            -30.0265
           ],
           [
            -51.2282,
            -30.0266
           ],
           [
            -51.2281,
            -30.0268
           ],
           [
            -51.2281,
            -30.0269
           ],
           [
            -51.228,
            -30.027
           ],
           [
            -51.2284,
            -30.0271
           ],
           [
            -51.2285,
            -30.0271
           ],
           [
            -51.2286,
            -30.0271
           ],
           [
            -51.2288,
            -30.0272
           ],
           [
            -51.2291,
            -30.0273
           ],
           [
            -51.2292,
            -30.0273
           ],
           [
            -51.2292,
            -30.0273
           ],
           [
            -51.2293,
            -30.0271
           ],
           [
            -51.2293,
            -30.027
           ]
          ],
          "type": "LineString"
         },
         "properties": {
          "departure_time": "14:09:10",
          "distance": 256,
          "from_id": "farrapos_station",
          "from_lat": -29.9977,
          "from_lon": -51.1976,
          "mode": "WALK",
          "option": 1,
          "route": "",
          "segment": 3,
          "segment_duration": 5.7,
          "to_id": "praia_de_belas_shopping_center",
          "to_lat": -30.05,
          "to_lon": -51.2288,
          "total_distance": 9460,
          "total_duration": 36.2,
          "wait": 0
         },
         "type": "Feature"
        },
        {
         "geometry": {
          "coordinates": [
           [
            -51.2293,
            -30.0271
           ],
           [
            -51.2295,
            -30.0267
           ],
           [
            -51.2299,
            -30.0268
           ],
           [
            -51.2307,
            -30.0272
           ],
           [
            -51.2312,
            -30.0275
           ],
           [
            -51.2318,
            -30.0278
           ],
           [
            -51.2324,
            -30.0281
           ],
           [
            -51.2329,
            -30.0283
           ],
           [
            -51.233,
            -30.0283
           ],
           [
            -51.233,
            -30.0283
           ],
           [
            -51.2342,
            -30.0289
           ],
           [
            -51.2345,
            -30.0291
           ],
           [
            -51.2345,
            -30.0291
           ],
           [
            -51.2352,
            -30.0294
           ],
           [
            -51.236,
            -30.0298
           ],
           [
            -51.236,
            -30.0298
           ],
           [
            -51.236,
            -30.0298
           ],
           [
            -51.2364,
            -30.03
           ],
           [
            -51.2376,
            -30.0306
           ],
           [
            -51.2376,
            -30.0306
           ],
           [
            -51.2381,
            -30.0308
           ],
           [
            -51.2382,
            -30.0309
           ],
           [
            -51.2385,
            -30.0313
           ],
           [
            -51.2386,
            -30.0314
           ],
           [
            -51.2386,
            -30.0314
           ],
           [
            -51.2399,
            -30.0334
           ],
           [
            -51.2402,
            -30.0338
           ],
           [
            -51.2402,
            -30.0338
           ],
           [
            -51.2403,
            -30.034
           ],
           [
            -51.2408,
            -30.0351
           ],
           [
            -51.2409,
            -30.0353
           ],
           [
            -51.2409,
            -30.0356
           ],
           [
            -51.2409,
            -30.0357
           ],
           [
            -51.2409,
            -30.0359
           ],
           [
            -51.2408,
            -30.0361
           ],
           [
            -51.2406,
            -30.0363
           ],
           [
            -51.2404,
            -30.0364
           ],
           [
            -51.2402,
            -30.0366
           ],
           [
            -51.2399,
            -30.0368
           ],
           [
            -51.2396,
            -30.0369
           ],
           [
            -51.239,
            -30.037
           ],
           [
            -51.2387,
            -30.037
           ],
           [
            -51.2387,
            -30.037
           ],
           [
            -51.2372,
            -30.0372
           ],
           [
            -51.237,
            -30.0372
           ],
           [
            -51.2364,
            -30.0373
           ],
           [
            -51.2364,
            -30.0373
           ],
           [
            -51.235,
            -30.0374
           ],
           [
            -51.2343,
            -30.0374
           ],
           [
            -51.2334,
            -30.0373
           ],
           [
            -51.2332,
            -30.0373
           ],
           [
            -51.2327,
            -30.0373
           ],
           [
            -51.2316,
            -30.0374
           ],
           [
            -51.2316,
            -30.0374
           ],
           [
            -51.2312,
            -30.0374
           ],
           [
            -51.231,
            -30.0375
           ],
           [
            -51.2307,
            -30.0375
           ],
           [
            -51.2305,
            -30.0376
           ],
           [
            -51.2303,
            -30.0377
           ],
           [
            -51.2301,
            -30.0378
           ],
           [
            -51.2302,
            -30.0385
           ],
           [
            -51.2302,
            -30.0385
           ],
           [
            -51.2302,
            -30.0387
           ],
           [
            -51.2302,
            -30.0389
           ],
           [
            -51.2302,
            -30.039
           ],
           [
            -51.2301,
            -30.0391
           ],
           [
            -51.2293,
            -30.0399
           ],
           [
            -51.2293,
            -30.04
           ],
           [
            -51.2292,
            -30.04
           ],
           [
            -51.2289,
            -30.0401
           ],
           [
            -51.2285,
            -30.0402
           ],
           [
            -51.2285,
            -30.0403
           ],
           [
            -51.2285,
            -30.0407
           ],
           [
            -51.2285,
            -30.041
           ],
           [
            -51.2286,
            -30.0413
           ],
           [
            -51.2286,
            -30.0413
           ],
           [
            -51.2286,
            -30.0412
           ],
           [
            -51.2286,
            -30.0412
           ],
           [
            -51.2286,
            -30.0415
           ],
           [
            -51.2286,
            -30.0415
           ],
           [
            -51.2286,
            -30.0418
           ],
           [
            -51.2288,
            -30.043
           ],
           [
            -51.2289,
            -30.0441
           ],
           [
            -51.2289,
            -30.0443
           ],
           [
            -51.2289,
            -30.0445
           ],
           [
            -51.2291,
            -30.0455
           ],
           [
            -51.2291,
            -30.0455
           ],
           [
            -51.2291,
            -30.0456
           ],
           [
            -51.2291,
            -30.0457
           ],
           [
            -51.2291,
            -30.0461
           ],
           [
            -51.2292,
            -30.0464
           ],
           [
            -51.2292,
            -30.0464
           ],
           [
            -51.2293,
            -30.0474
           ],
           [
            -51.2293,
            -30.0475
           ],
           [
            -51.2293,
            -30.0476
           ],
           [
            -51.2293,
            -30.0477
           ],
           [
            -51.2293,
            -30.0479
           ],
           [
            -51.2294,
            -30.0488
           ]
          ],
          "type": "LineString"
         },
         "properties": {
          "departure_time": "14:09:10",
          "distance": 4083,
          "from_id": "farrapos_station",
          "from_lat": -29.9977,
          "from_lon": -51.1976,
          "mode": "BUS",
          "option": 1,
          "route": "188",
          "segment": 4,
          "segment_duration": 10.4,
          "to_id": "praia_de_belas_shopping_center",
          "to_lat": -30.05,
          "to_lon": -51.2288,
          "total_distance": 9460,
          "total_duration": 36.2,
          "wait": 4.4
         },
         "type": "Feature"
        },
        {
         "geometry": {
          "coordinates": [
           [
            -51.2295,
            -30.0488
           ],
           [
            -51.2295,
            -30.0488
           ],
           [
            -51.2296,
            -30.0492
           ],
           [
            -51.2296,
            -30.0497
           ],
           [
            -51.2295,
            -30.0497
           ],
           [
            -51.2295,
            -30.0499
           ],
           [
            -51.2295,
            -30.05
           ]
          ],
          "type": "LineString"
         },
         "properties": {
          "departure_time": "14:09:10",
          "distance": 151,
          "from_id": "farrapos_station",
          "from_lat": -29.9977,
          "from_lon": -51.1976,
          "mode": "WALK",
          "option": 1,
          "route": "",
          "segment": 5,
          "segment_duration": 3.2,
          "to_id": "praia_de_belas_shopping_center",
          "to_lat": -30.05,
          "to_lon": -51.2288,
          "total_distance": 9460,
          "total_duration": 36.2,
          "wait": 0
         },
         "type": "Feature"
        },
        {
         "geometry": {
          "coordinates": [
           [
            -51.1981,
            -29.9989
           ],
           [
            -51.1981,
            -29.9988
           ],
           [
            -51.1976,
            -29.9974
           ]
          ],
          "type": "LineString"
         },
         "properties": {
          "departure_time": "14:09:43",
          "distance": 174,
          "from_id": "farrapos_station",
          "from_lat": -29.9977,
          "from_lon": -51.1976,
          "mode": "WALK",
          "option": 2,
          "route": "",
          "segment": 1,
          "segment_duration": 4.6,
          "to_id": "praia_de_belas_shopping_center",
          "to_lat": -30.05,
          "to_lon": -51.2288,
          "total_distance": 8779,
          "total_duration": 48.7,
          "wait": 0
         },
         "type": "Feature"
        }
       ],
       "type": "FeatureCollection"
      },
      "text/html": [
       "<table class=\"dataframe\">\n",
       "<caption>A sf: 6 × 17</caption>\n",
       "<thead>\n",
       "\t<tr><th></th><th scope=col>from_id</th><th scope=col>from_lat</th><th scope=col>from_lon</th><th scope=col>to_id</th><th scope=col>to_lat</th><th scope=col>to_lon</th><th scope=col>option</th><th scope=col>departure_time</th><th scope=col>total_duration</th><th scope=col>total_distance</th><th scope=col>segment</th><th scope=col>mode</th><th scope=col>segment_duration</th><th scope=col>wait</th><th scope=col>distance</th><th scope=col>route</th><th scope=col>geometry</th></tr>\n",
       "\t<tr><th></th><th scope=col>&lt;chr&gt;</th><th scope=col>&lt;dbl&gt;</th><th scope=col>&lt;dbl&gt;</th><th scope=col>&lt;chr&gt;</th><th scope=col>&lt;dbl&gt;</th><th scope=col>&lt;dbl&gt;</th><th scope=col>&lt;int&gt;</th><th scope=col>&lt;chr&gt;</th><th scope=col>&lt;dbl&gt;</th><th scope=col>&lt;int&gt;</th><th scope=col>&lt;int&gt;</th><th scope=col>&lt;chr&gt;</th><th scope=col>&lt;dbl&gt;</th><th scope=col>&lt;dbl&gt;</th><th scope=col>&lt;int&gt;</th><th scope=col>&lt;chr&gt;</th><th scope=col>&lt;LINESTRING [°]&gt;</th></tr>\n",
       "</thead>\n",
       "<tbody>\n",
       "\t<tr><th scope=row>1</th><td>farrapos_station</td><td>-29.99772</td><td>-51.19762</td><td>praia_de_belas_shopping_center</td><td>-30.04995</td><td>-51.22875</td><td>1</td><td>14:09:10</td><td>36.2</td><td>9460</td><td>1</td><td>WALK</td><td> 4.6</td><td>0.0</td><td> 174</td><td>      </td><td>LINESTRING (-51.1981 -29.99...</td></tr>\n",
       "\t<tr><th scope=row>2</th><td>farrapos_station</td><td>-29.99772</td><td>-51.19762</td><td>praia_de_belas_shopping_center</td><td>-30.04995</td><td>-51.22875</td><td>1</td><td>14:09:10</td><td>36.2</td><td>9460</td><td>2</td><td>RAIL</td><td> 6.6</td><td>1.3</td><td>4796</td><td>LINHA1</td><td>LINESTRING (-51.19763 -29.9...</td></tr>\n",
       "\t<tr><th scope=row>3</th><td>farrapos_station</td><td>-29.99772</td><td>-51.19762</td><td>praia_de_belas_shopping_center</td><td>-30.04995</td><td>-51.22875</td><td>1</td><td>14:09:10</td><td>36.2</td><td>9460</td><td>3</td><td>WALK</td><td> 5.7</td><td>0.0</td><td> 256</td><td>      </td><td>LINESTRING (-51.22827 -30.0...</td></tr>\n",
       "\t<tr><th scope=row>4</th><td>farrapos_station</td><td>-29.99772</td><td>-51.19762</td><td>praia_de_belas_shopping_center</td><td>-30.04995</td><td>-51.22875</td><td>1</td><td>14:09:10</td><td>36.2</td><td>9460</td><td>4</td><td>BUS </td><td>10.4</td><td>4.4</td><td>4083</td><td>188   </td><td>LINESTRING (-51.22926 -30.0...</td></tr>\n",
       "\t<tr><th scope=row>5</th><td>farrapos_station</td><td>-29.99772</td><td>-51.19762</td><td>praia_de_belas_shopping_center</td><td>-30.04995</td><td>-51.22875</td><td>1</td><td>14:09:10</td><td>36.2</td><td>9460</td><td>5</td><td>WALK</td><td> 3.2</td><td>0.0</td><td> 151</td><td>      </td><td>LINESTRING (-51.22949 -30.0...</td></tr>\n",
       "\t<tr><th scope=row>6</th><td>farrapos_station</td><td>-29.99772</td><td>-51.19762</td><td>praia_de_belas_shopping_center</td><td>-30.04995</td><td>-51.22875</td><td>2</td><td>14:09:43</td><td>48.7</td><td>8779</td><td>1</td><td>WALK</td><td> 4.6</td><td>0.0</td><td> 174</td><td>      </td><td>LINESTRING (-51.1981 -29.99...</td></tr>\n",
       "</tbody>\n",
       "</table>\n"
      ],
      "text/latex": [
       "A sf: 6 × 17\n",
       "\\begin{tabular}{r|lllllllllllllllll}\n",
       "  & from\\_id & from\\_lat & from\\_lon & to\\_id & to\\_lat & to\\_lon & option & departure\\_time & total\\_duration & total\\_distance & segment & mode & segment\\_duration & wait & distance & route & geometry\\\\\n",
       "  & <chr> & <dbl> & <dbl> & <chr> & <dbl> & <dbl> & <int> & <chr> & <dbl> & <int> & <int> & <chr> & <dbl> & <dbl> & <int> & <chr> & <LINESTRING {[}°{]}>\\\\\n",
       "\\hline\n",
       "\t1 & farrapos\\_station & -29.99772 & -51.19762 & praia\\_de\\_belas\\_shopping\\_center & -30.04995 & -51.22875 & 1 & 14:09:10 & 36.2 & 9460 & 1 & WALK &  4.6 & 0.0 &  174 &        & LINESTRING (-51.1981 -29.99...\\\\\n",
       "\t2 & farrapos\\_station & -29.99772 & -51.19762 & praia\\_de\\_belas\\_shopping\\_center & -30.04995 & -51.22875 & 1 & 14:09:10 & 36.2 & 9460 & 2 & RAIL &  6.6 & 1.3 & 4796 & LINHA1 & LINESTRING (-51.19763 -29.9...\\\\\n",
       "\t3 & farrapos\\_station & -29.99772 & -51.19762 & praia\\_de\\_belas\\_shopping\\_center & -30.04995 & -51.22875 & 1 & 14:09:10 & 36.2 & 9460 & 3 & WALK &  5.7 & 0.0 &  256 &        & LINESTRING (-51.22827 -30.0...\\\\\n",
       "\t4 & farrapos\\_station & -29.99772 & -51.19762 & praia\\_de\\_belas\\_shopping\\_center & -30.04995 & -51.22875 & 1 & 14:09:10 & 36.2 & 9460 & 4 & BUS  & 10.4 & 4.4 & 4083 & 188    & LINESTRING (-51.22926 -30.0...\\\\\n",
       "\t5 & farrapos\\_station & -29.99772 & -51.19762 & praia\\_de\\_belas\\_shopping\\_center & -30.04995 & -51.22875 & 1 & 14:09:10 & 36.2 & 9460 & 5 & WALK &  3.2 & 0.0 &  151 &        & LINESTRING (-51.22949 -30.0...\\\\\n",
       "\t6 & farrapos\\_station & -29.99772 & -51.19762 & praia\\_de\\_belas\\_shopping\\_center & -30.04995 & -51.22875 & 2 & 14:09:43 & 48.7 & 8779 & 1 & WALK &  4.6 & 0.0 &  174 &        & LINESTRING (-51.1981 -29.99...\\\\\n",
       "\\end{tabular}\n"
      ],
      "text/markdown": [
       "\n",
       "A sf: 6 × 17\n",
       "\n",
       "| <!--/--> | from_id &lt;chr&gt; | from_lat &lt;dbl&gt; | from_lon &lt;dbl&gt; | to_id &lt;chr&gt; | to_lat &lt;dbl&gt; | to_lon &lt;dbl&gt; | option &lt;int&gt; | departure_time &lt;chr&gt; | total_duration &lt;dbl&gt; | total_distance &lt;int&gt; | segment &lt;int&gt; | mode &lt;chr&gt; | segment_duration &lt;dbl&gt; | wait &lt;dbl&gt; | distance &lt;int&gt; | route &lt;chr&gt; | geometry &lt;LINESTRING [°]&gt; |\n",
       "|---|---|---|---|---|---|---|---|---|---|---|---|---|---|---|---|---|---|\n",
       "| 1 | farrapos_station | -29.99772 | -51.19762 | praia_de_belas_shopping_center | -30.04995 | -51.22875 | 1 | 14:09:10 | 36.2 | 9460 | 1 | WALK |  4.6 | 0.0 |  174 | <!----> | LINESTRING (-51.1981 -29.99... |\n",
       "| 2 | farrapos_station | -29.99772 | -51.19762 | praia_de_belas_shopping_center | -30.04995 | -51.22875 | 1 | 14:09:10 | 36.2 | 9460 | 2 | RAIL |  6.6 | 1.3 | 4796 | LINHA1 | LINESTRING (-51.19763 -29.9... |\n",
       "| 3 | farrapos_station | -29.99772 | -51.19762 | praia_de_belas_shopping_center | -30.04995 | -51.22875 | 1 | 14:09:10 | 36.2 | 9460 | 3 | WALK |  5.7 | 0.0 |  256 | <!----> | LINESTRING (-51.22827 -30.0... |\n",
       "| 4 | farrapos_station | -29.99772 | -51.19762 | praia_de_belas_shopping_center | -30.04995 | -51.22875 | 1 | 14:09:10 | 36.2 | 9460 | 4 | BUS  | 10.4 | 4.4 | 4083 | 188    | LINESTRING (-51.22926 -30.0... |\n",
       "| 5 | farrapos_station | -29.99772 | -51.19762 | praia_de_belas_shopping_center | -30.04995 | -51.22875 | 1 | 14:09:10 | 36.2 | 9460 | 5 | WALK |  3.2 | 0.0 |  151 | <!----> | LINESTRING (-51.22949 -30.0... |\n",
       "| 6 | farrapos_station | -29.99772 | -51.19762 | praia_de_belas_shopping_center | -30.04995 | -51.22875 | 2 | 14:09:43 | 48.7 | 8779 | 1 | WALK |  4.6 | 0.0 |  174 | <!----> | LINESTRING (-51.1981 -29.99... |\n",
       "\n"
      ],
      "text/plain": [
       "  from_id          from_lat  from_lon  to_id                          to_lat   \n",
       "1 farrapos_station -29.99772 -51.19762 praia_de_belas_shopping_center -30.04995\n",
       "2 farrapos_station -29.99772 -51.19762 praia_de_belas_shopping_center -30.04995\n",
       "3 farrapos_station -29.99772 -51.19762 praia_de_belas_shopping_center -30.04995\n",
       "4 farrapos_station -29.99772 -51.19762 praia_de_belas_shopping_center -30.04995\n",
       "5 farrapos_station -29.99772 -51.19762 praia_de_belas_shopping_center -30.04995\n",
       "6 farrapos_station -29.99772 -51.19762 praia_de_belas_shopping_center -30.04995\n",
       "  to_lon    option departure_time total_duration total_distance segment mode\n",
       "1 -51.22875 1      14:09:10       36.2           9460           1       WALK\n",
       "2 -51.22875 1      14:09:10       36.2           9460           2       RAIL\n",
       "3 -51.22875 1      14:09:10       36.2           9460           3       WALK\n",
       "4 -51.22875 1      14:09:10       36.2           9460           4       BUS \n",
       "5 -51.22875 1      14:09:10       36.2           9460           5       WALK\n",
       "6 -51.22875 2      14:09:43       48.7           8779           1       WALK\n",
       "  segment_duration wait distance route  geometry                      \n",
       "1  4.6             0.0   174            LINESTRING (-51.1981 -29.99...\n",
       "2  6.6             1.3  4796     LINHA1 LINESTRING (-51.19763 -29.9...\n",
       "3  5.7             0.0   256            LINESTRING (-51.22827 -30.0...\n",
       "4 10.4             4.4  4083     188    LINESTRING (-51.22926 -30.0...\n",
       "5  3.2             0.0   151            LINESTRING (-51.22949 -30.0...\n",
       "6  4.6             0.0   174            LINESTRING (-51.1981 -29.99..."
      ]
     },
     "metadata": {},
     "output_type": "display_data"
    }
   ],
   "source": [
    "# set inputs\n",
    "origins <- poi[10,]\n",
    "destinations <- poi[12,]\n",
    "mode <- c(\"WALK\", \"TRANSIT\")\n",
    "max_walk_time <- 60 # minutes\n",
    "departure_datetime <- as.POSIXct(\"13-05-2019 14:00:00\",\n",
    "                                 format = \"%d-%m-%Y %H:%M:%S\")\n",
    "# calculate detailed itineraries\n",
    "det <- detailed_itineraries(r5r_core = r5r_core,\n",
    "                            origins = origins,\n",
    "                            destinations = destinations,\n",
    "                            mode = mode,\n",
    "                            departure_datetime = departure_datetime,\n",
    "                            max_walk_time = max_walk_time,\n",
    "                            shortest_path = FALSE)\n",
    "head(det)"
   ]
  },
  {
   "cell_type": "markdown",
   "id": "6df030ae",
   "metadata": {},
   "source": [
    "The output is a `data.frame sf` object, so we can easily visualize the results.\n",
    "#### Visualize results\n",
    "**Static visualization** with `ggplot2` package: To provide a geographic context \n",
    "for the visualization of the results in `ggplot2`, you can also use the `street_network_to_sf()` function to  extract the OSM street network used in the routing.\n"
   ]
  },
  {
   "cell_type": "code",
   "execution_count": 13,
   "id": "5114d3f0",
   "metadata": {},
   "outputs": [
    {
     "data": {
      "image/png": "[encoded data removed]",
      "text/plain": [
       "plot without title"
      ]
     },
     "metadata": {
      "image/png": {
       "height": 420,
       "width": 420
      }
     },
     "output_type": "display_data"
    }
   ],
   "source": [
    "# extract OSM network\n",
    "street_net <- street_network_to_sf(r5r_core)\n",
    "# extract public transport network\n",
    "transit_net <- transit_network_to_sf(r5r_core)\n",
    "# plot\n",
    "ggplot() +\n",
    "  geom_sf(data = street_net$edges, color='gray85') +\n",
    "  geom_sf(data = det, aes(color=mode)) +\n",
    "  facet_wrap(.~option) + \n",
    "  theme_void()"
   ]
  },
  {
   "cell_type": "markdown",
   "id": "47368e46",
   "metadata": {},
   "source": [
    "### Cleaning up after usage\n",
    "`r5r` objects are still allocated to any amount of memory previously set after they are done with their calculations. In order to remove an existing `r5r` object and reallocate the memory it had been using, we use the `stop_r5` function followed by a call to Java's garbage collector, as follows:\n"
   ]
  },
  {
   "cell_type": "code",
   "execution_count": 14,
   "id": "9db911a9",
   "metadata": {},
   "outputs": [
    {
     "name": "stderr",
     "output_type": "stream",
     "text": [
      "r5r_core has been successfully stopped.\n",
      "\n"
     ]
    }
   ],
   "source": [
    "r5r::stop_r5(r5r_core)\n",
    "rJava::.jgc(R.gc = TRUE)"
   ]
  },
  {
   "cell_type": "markdown",
   "id": "f6c2dac1",
   "metadata": {},
   "source": [
    "If you have any suggestions or want to report an error, please visit [the package GitHub page](https://github.com/ipeaGIT/r5r)."
   ]
  }
 ],
 "metadata": {
  "kernelspec": {
   "display_name": "R",
   "language": "R",
   "name": "ir"
  },
  "language_info": {
   "codemirror_mode": "r",
   "file_extension": ".r",
   "mimetype": "text/x-r-source",
   "name": "R",
   "pygments_lexer": "r",
   "version": "4.3.1"
  }
 },
 "nbformat": 4,
 "nbformat_minor": 5
}
